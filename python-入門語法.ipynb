{
 "cells": [
  {
   "cell_type": "markdown",
   "metadata": {},
   "source": [
    "# python-入門語法\n",
    "## 教學目標\n",
    "這份教學的目標是介紹基本的 python 語法。\n",
    "\n",
    "## 適用對象\n",
    "適用於有程式基礎，但是卻沒有學過 python 的人。\n",
    "\n",
    "## 大綱\n",
    "- [四則運算](#四則運算)\n",
    "- [變數](#變數)\n",
    "- [資料型態](#資料型態)\n",
    "- [條件判斷](#條件判斷)\n",
    "- [迴圈](#迴圈)\n",
    "- [函數](#函數)\n",
    "- [內建模組](#內建模組)\n",
    "- [第三方模組](#第三方模組)\n",
    "\n",
    "## 執行方法\n",
    "在 Jupyter notebook 中，選取想要執行的區塊後，使用以下其中一種方法執行\n",
    "- 上方工具列中，按下 `Cell` &lt; `Run Cells` 執行\n",
    "- 使用快捷鍵 `Shift` + `Enter` 執行\n",
    "\n",
    "## 編輯時間\n",
    "[ProFatXuanAll](https://github.com/ProFatXuanAll) 最後編輯於 *2019/08/06* (yyyy/mm/dd)"
   ]
  },
  {
   "cell_type": "markdown",
   "metadata": {},
   "source": [
    "<br/>\n",
    "<br/>\n",
    "<br/>\n",
    "<br/>"
   ]
  },
  {
   "cell_type": "markdown",
   "metadata": {},
   "source": [
    "# 四則運算\n",
    "\n",
    "### 註解\n",
    "`#` 井號的意思是註解，出現在井號之後的任何文字都**不會**被當作程式執行\n",
    "\n",
    "### 輸出\n",
    "`print()` 的功能為**輸出**運算結果\n",
    "\n",
    "### 運算方法\n",
    "- **運算子 (operator)** 不外乎**加減乘除**\n",
    "    - `+` 相加\n",
    "    - `-` 相剪\n",
    "    - `*` 相乘\n",
    "    - `/` 相除\n",
    "    - `%` 相除取餘數\n",
    "    - `**` 取次方數\n",
    "- 整數相除會變成含有小數點的**浮點數**"
   ]
  },
  {
   "cell_type": "code",
   "execution_count": 1,
   "metadata": {},
   "outputs": [
    {
     "name": "stdout",
     "output_type": "stream",
     "text": [
      "2019\n",
      "8\n",
      "6\n",
      "1.3333333333333333\n"
     ]
    }
   ],
   "source": [
    "# 井號的意思是註解\n",
    "# 可以出現在每一行的任何一個地方\n",
    "# 出現在井號之後的任何文字都不會被當作程式執行\n",
    "\n",
    "# print 的功能是輸出\n",
    "# 如同 C 語言中的 printf\n",
    "# 如同 C++ 語言中的 std::cout\n",
    "# 如同 Java 語言中的 System.out.println\n",
    "# 如同 JavaScript 語言中的 console.log\n",
    "\n",
    "print(1234 + 785)  # 相加輸出 2019\n",
    "print(5678 - 5670) # 相減輸出 8\n",
    "print(2 * 3)       # 相乘輸出 6\n",
    "print(8 / 6)       # 相除輸出 1.3333333333333333 (浮點數)"
   ]
  },
  {
   "cell_type": "code",
   "execution_count": 2,
   "metadata": {},
   "outputs": [
    {
     "name": "stdout",
     "output_type": "stream",
     "text": [
      "294\n",
      "-1340\n"
     ]
    }
   ],
   "source": [
    "# 先乘除\n",
    "# 後加減\n",
    "print(20 * 19 - 86)   # 輸出 294\n",
    "\n",
    "# 使用小括號()\n",
    "# 改變運算順序\n",
    "print(20 * (19 - 86)) # 輸出 -1340"
   ]
  },
  {
   "cell_type": "code",
   "execution_count": 3,
   "metadata": {},
   "outputs": [
    {
     "name": "stdout",
     "output_type": "stream",
     "text": [
      "1\n",
      "1024\n"
     ]
    }
   ],
   "source": [
    "# 餘數運算\n",
    "print(10 % 3)  # 輸出 1\n",
    "\n",
    "# 次方運算\n",
    "print(2 ** 10) # 輸出 1024"
   ]
  },
  {
   "cell_type": "markdown",
   "metadata": {},
   "source": [
    "# 變數\n",
    "\n",
    "### 變數宣告 (Variable Declaration)\n",
    "- 將計算結果**保存**\n",
    "    - 使用 `=` 進行**賦予 (assignment)** 值的運算\n",
    "- **重複**利用計算結果\n",
    "- 複雜的計算可以拆解成簡單的步驟\n",
    "\n",
    "### 命名規則\n",
    "- 開頭只能是非數字的文字\n",
    "- 不可以包含英文中常見的標點符號\n",
    "- 不可以包含運算符號"
   ]
  },
  {
   "cell_type": "code",
   "execution_count": 4,
   "metadata": {},
   "outputs": [
    {
     "name": "stdout",
     "output_type": "stream",
     "text": [
      "6\n",
      "5\n",
      "3.5\n"
     ]
    }
   ],
   "source": [
    "a = 1            # 宣告變數 a 並賦予值 1\n",
    "b = 2            # 宣告變數 b 並賦予值 2\n",
    "c = 3            # 宣告變數 c 並賦予值 3\n",
    "\n",
    "print(a + b + c) # 輸出 6\n",
    "print(a * b + c) # 輸出 5\n",
    "print(a / b + c) # 輸出 3.5"
   ]
  },
  {
   "cell_type": "code",
   "execution_count": 5,
   "metadata": {},
   "outputs": [
    {
     "name": "stdout",
     "output_type": "stream",
     "text": [
      "32\n"
     ]
    }
   ],
   "source": [
    "# 中文也可以作為變數名稱\n",
    "底數 = 2\n",
    "次方數 = 5\n",
    "運算結果 = 底數 ** 次方數\n",
    "\n",
    "print(運算結果) # 輸出 32"
   ]
  },
  {
   "cell_type": "markdown",
   "metadata": {},
   "source": [
    "# 資料型態\n",
    "- 包含**數值**型態、**結構**型態\n",
    "\n",
    "### 數值型態\n",
    "- `int`: **整數** (64位元)\n",
    "- `float`: **浮點數** (雙精度, 64位元)\n",
    "- `bool`: **布林值** (`True` or `False`)\n",
    "- `str`: **字串**\n",
    "- 不同型態混合運算有特別規則\n",
    "    - 整數 + 浮點數 = 浮點數\n",
    "    - 浮點數 + 整數 = 浮點數\n",
    "    - True 可以變成整數 1\n",
    "    - False 可以變成整數 0\n",
    "\n",
    "### 結構型態\n",
    "- `list` 或 `[]`: **串列**\n",
    "    - 有順序的保存資料\n",
    "    - 使用**位置(數字)**取得內容\n",
    "    - 使用 `:` 來取得指定位置範圍中的資料\n",
    "    - 建議只用來儲存相同性質的資料\n",
    "- `tuple` 或 `()`: **多元組**\n",
    "    - 類似於list，有順序的保存資料\n",
    "    - 其使用方式大致上與list相同，惟**無法變更個別元素的值**\n",
    "- `dict` 或 `{}`: **字典**\n",
    "    - 無順序的保存資料\n",
    "    - 使用任意**數值型態**作為**鑰匙**取得資料\n",
    "- 可以使用 `len()` 取得資料**大小**\n",
    "\n",
    "### 資料運算\n",
    "- 可以使用 `type` 觀察**資料型態**"
   ]
  },
  {
   "cell_type": "code",
   "execution_count": 6,
   "metadata": {},
   "outputs": [
    {
     "name": "stdout",
     "output_type": "stream",
     "text": [
      "1\n",
      "<class 'int'>\n",
      "1.0\n",
      "<class 'float'>\n",
      "True\n",
      "<class 'bool'>\n",
      "False\n",
      "<class 'bool'>\n",
      "apple\n",
      "<class 'str'>\n"
     ]
    }
   ],
   "source": [
    "# 數值型態\n",
    "\n",
    "print(1)             # 輸出 1\n",
    "print(type(1))       # 輸出 int\n",
    "\n",
    "print(1.0)           # 輸出 1.0\n",
    "print(type(1.0))     # 輸出 float\n",
    "\n",
    "print(True)          # 輸出 True\n",
    "print(type(True))    # 輸出 bool\n",
    "\n",
    "print(False)         # 輸出 False\n",
    "print(type(False))   # 輸出 bool\n",
    "\n",
    "print('apple')       # 輸出 apple\n",
    "print(type('apple')) # 輸出 str"
   ]
  },
  {
   "cell_type": "code",
   "execution_count": 1,
   "metadata": {},
   "outputs": [
    {
     "name": "stdout",
     "output_type": "stream",
     "text": [
      "2.0\n",
      "2.0\n",
      "2\n",
      "2\n",
      "1\n",
      "1\n",
      "abc\n",
      "年份: 2019\n",
      "月份: 8, 日期: 6\n"
     ]
    }
   ],
   "source": [
    "# 數值型態混合運算\n",
    "\n",
    "print(1 + 1.0)                         # 輸出 2.0\n",
    "print(1.0 + 1)                         # 輸出 2.0\n",
    "\n",
    "print(1 + True)                        # 輸出 2\n",
    "print(True + 1)                        # 輸出 2\n",
    "print(1 + False)                       # 輸出 1\n",
    "print(False + 1)                       # 輸出 1\n",
    "\n",
    "print('abc')                           # 輸出 abc\n",
    "print('年份: ' + str(2019))             # 輸出 年份: 2019\n",
    "print('月份: {}, 日期: {}'.format(8, 6)) # 輸出 月份: 8, 日期: 6"
   ]
  },
  {
   "cell_type": "code",
   "execution_count": 1,
   "metadata": {},
   "outputs": [
    {
     "name": "stdout",
     "output_type": "stream",
     "text": [
      "[2019, 8, 6]\n",
      "3\n",
      "2019\n",
      "8\n",
      "6\n",
      "6\n",
      "8\n",
      "2019\n",
      "[2019, 8, 6]\n",
      "[8, 6]\n",
      "[2019, 8]\n",
      "[2019, 8, 6]\n",
      "[2020, 8, 6]\n",
      "[2020, 8, 6, 3]\n",
      "[2020, 8, 6, 3, 4, 5, 6]\n"
     ]
    }
   ],
   "source": [
    "a = [2019, 8, 6] # 宣告 list 結構資料\n",
    "\n",
    "print(a)         # 輸出 a 的所有內容 [2019, 8, 6]\n",
    "print(len(a))    # 輸出 a 的內容大小 3\n",
    "print(a[0])      # 輸出 a 中的第 0 個位置的資料 2019\n",
    "print(a[1])      # 輸出 a 中的第 1 個位置的資料 8\n",
    "print(a[2])      # 輸出 a 中的第 2 個位置的資料 6\n",
    "\n",
    "# 使用負數來代表反向取得資料\n",
    "# 例如長度為 3 的 list 中\n",
    "# a[-1] = a[len(a)-1] = a[3-1] = a[2] = 6\n",
    "# a[-2] = a[len(a)-2] = a[3-2] = a[1] = 8\n",
    "# a[-3] = a[len(a)-3] = a[3-3] = a[0] = 2019\n",
    "\n",
    "print(a[-1])     # 輸出 a 中的第 -1 個位置的資料 6\n",
    "print(a[-2])     # 輸出 a 中的第 -2 個位置的資料 8\n",
    "print(a[-3])     # 輸出 a 中的第 -3 個位置的資料 2019\n",
    "\n",
    "# 使用 [起始位置:結束位置] 來取得 list 中的部分資料\n",
    "# 取出的值會以 list 的形式保留\n",
    "# 位置包含起始位置，但不包含結束位置\n",
    "\n",
    "print(a[0:3])    # 輸出位置 0,1,2 但是不含 3 的資料 [2019, 8, 6]\n",
    "print(a[1:])     # 輸出位置 1,2 的資料             [8, 6]\n",
    "print(a[:2])     # 輸出位置 0,1 但是不含 2 的資料   [2019, 8]\n",
    "print(a[:])      # 輸出位置 0,1,2 的資料           [2019, 8, 6]\n",
    "\n",
    "# 更改指定位置的值\n",
    "a[0] = 2020\n",
    "print(a)         # 輸出更改後的 a [2020, 8, 6]\n",
    "\n",
    "# 在list尾端插入一個元素\n",
    "a.append(3)\n",
    "print(a)         # 輸出 [2020, 8, 6, 3]\n",
    "\n",
    "# 將一個list串接到另一個list尾端\n",
    "a.extend([4, 5, 6])\n",
    "print(a)         # 輸出 [2020, 8, 6, 3, 4, 5, 6]"
   ]
  },
  {
   "cell_type": "code",
   "execution_count": 3,
   "metadata": {},
   "outputs": [
    {
     "name": "stdout",
     "output_type": "stream",
     "text": [
      "(1, 2, 3)\n",
      "3\n",
      "1\n",
      "2\n",
      "3\n",
      "3\n",
      "2\n",
      "1\n",
      "(1, 2, 3)\n",
      "(2, 3)\n",
      "(1, 2)\n",
      "(1, 2, 3)\n"
     ]
    },
    {
     "ename": "TypeError",
     "evalue": "'tuple' object does not support item assignment",
     "output_type": "error",
     "traceback": [
      "\u001b[0;31m---------------------------------------------------------------------------\u001b[0m",
      "\u001b[0;31mTypeError\u001b[0m                                 Traceback (most recent call last)",
      "\u001b[0;32m<ipython-input-3-3aa94fcb658f>\u001b[0m in \u001b[0;36m<module>\u001b[0;34m\u001b[0m\n\u001b[1;32m     24\u001b[0m \u001b[0;34m\u001b[0m\u001b[0m\n\u001b[1;32m     25\u001b[0m \u001b[0;31m# **無法**更改指定位置的值\u001b[0m\u001b[0;34m\u001b[0m\u001b[0;34m\u001b[0m\u001b[0m\n\u001b[0;32m---> 26\u001b[0;31m \u001b[0mt\u001b[0m\u001b[0;34m[\u001b[0m\u001b[0;36m0\u001b[0m\u001b[0;34m]\u001b[0m \u001b[0;34m=\u001b[0m \u001b[0;36m2020\u001b[0m      \u001b[0;31m# 跳出TypeError: 'tuple' object does not support item assignment\u001b[0m\u001b[0;34m\u001b[0m\u001b[0m\n\u001b[0m",
      "\u001b[0;31mTypeError\u001b[0m: 'tuple' object does not support item assignment"
     ]
    }
   ],
   "source": [
    "t = (1, 2, 3)    # 宣告 tuple 結構資料\n",
    "# t = 1, 2, 3      小括號可有可無\n",
    "\n",
    "print(t)         # 輸出 t 的所有內容 (1, 2, 3)\n",
    "print(len(t))    # 輸出 t 的內容大小 3\n",
    "print(t[0])      # 輸出 t 中的第 0 個位置的資料 1\n",
    "print(t[1])      # 輸出 t 中的第 1 個位置的資料 2\n",
    "print(t[2])      # 輸出 t 中的第 2 個位置的資料 3\n",
    "\n",
    "# 使用負數來代表反向取得資料，與list相同，說明略\n",
    "\n",
    "print(t[-1])     # 輸出 t 中的第 -1 個位置的資料 3\n",
    "print(t[-2])     # 輸出 t 中的第 -2 個位置的資料 2\n",
    "print(t[-3])     # 輸出 t 中的第 -3 個位置的資料 1\n",
    "\n",
    "# 使用 [起始位置:結束位置] 來取得 tuple 中的部分資料\n",
    "# 取出的值會以 tuple 的形式保留\n",
    "# 位置包含起始位置，但不包含結束位置\n",
    "\n",
    "print(t[0:3])    # 輸出位置 0,1,2 但是不含 3 的資料 (1, 2, 3)\n",
    "print(t[1:])     # 輸出位置 1,2 的資料             (2, 3)\n",
    "print(t[:2])     # 輸出位置 0,1 但是不含 2 的資料   (1, 2)\n",
    "print(t[:])      # 輸出位置 0,1,2 的資料           (1, 2, 3)\n",
    "\n",
    "# **無法**更改指定位置的值\n",
    "t[0] = 2020      # 跳出 TypeError: 'tuple' object does not support item assignment"
   ]
  },
  {
   "cell_type": "code",
   "execution_count": 9,
   "metadata": {},
   "outputs": [
    {
     "name": "stdout",
     "output_type": "stream",
     "text": [
      "{'a': 'Hello World', 1: True, False: 0, 'l': [4, 5, 6], 'd': {'foo': 'bar'}}\n",
      "5\n",
      "Hello World\n",
      "True\n",
      "0\n",
      "4\n",
      "{'foo': 'bar'}\n",
      "{'a': 'lala', 1: True, False: 0, 'l': [4, 5, 6], 'd': {'foo': 'bar'}}\n",
      "{'a': 'lala', 1: True, False: 0, 'l': [4, 5, 6], 'd': {'foo': 'bar'}, 'b': 123}\n",
      "{'a': 'lala', 1: True, False: 0, 'l': [4, 5, 6], 'b': 123}\n"
     ]
    }
   ],
   "source": [
    "d = { 'a': 'Hello World', 1: True, False: 0, 'l': [4, 5, 6], 'd': {'foo': 'bar'} } # 宣告 dict 結構資料\n",
    "\n",
    "print(d)         # 輸出 d 的所有內容 {'a': 123, 'b': 'Hello World', 'c': True, 'd': [4, 5, 6], 'e': {'foo': 'bar'}}\n",
    "print(len(d))    # 輸出 d 的鍵值對總數 5\n",
    "print(d['a'])    # 輸出 d 中 key 為 'a' 的資料 'Hello World'\n",
    "print(d[1])      # 輸出 d 中 key 為 1 的資料 True\n",
    "print(d[False])  # 輸出 d 中 key 為 False 的資料 0\n",
    "print(d['l'][0]) # 輸出 d 中 key 為 'l' 的資料當中，位置為 0 的資料 4\n",
    "print(d['d'])    # 輸出 d 中 key 為 'd' 的資料 {'foo': 'bar'}\n",
    "\n",
    "# 更改指定位置的值\n",
    "d['a'] = 'lala'\n",
    "print(d)         # 輸出更改後的 d {'a': 'lala', 1: True, False: 0, 'l': [4, 5, 6], 'd': {'foo': 'bar'}}\n",
    "\n",
    "# 若對一個不存在的key賦值，則創造一個新的鍵值對\n",
    "d['b'] = 123\n",
    "print(d)         # 輸出更改後的 d {'a': 'lala', 1: True, False: 0, 'l': [4, 5, 6], 'd': {'foo': 'bar'}, 'b': 123}\n",
    "\n",
    "# 使用 del 關鍵字可以刪除任意元素\n",
    "del d['d']\n",
    "print(d)         # 輸出更改後的 d {'a': 'lala', 1: True, False: 0, 'l': [4, 5, 6], 'b': 123}"
   ]
  },
  {
   "cell_type": "markdown",
   "metadata": {},
   "source": [
    "# 條件判斷\n",
    "\n",
    "### 條件運算式 (Conditional expression)\n",
    "- 常用的八個條件運算子(Conditional operator)\n",
    "    - `a == b` 等於\n",
    "    - `a != b` 不等於\n",
    "    - `a < b` 小於\n",
    "    - `a <= b` 小於等於\n",
    "    - `a > b` 大於\n",
    "    - `a >= b` 大於等於\n",
    "    - `a is b` Identity operators\n",
    "        - 當使用於數值型態資料時，其功能與 == 相同\n",
    "        - 當使用於非數值型態資料（如list, dict, tuple, 任意型態的object...等）時，用來判斷a和b是不是使用同一個記憶體位置\n",
    "    - `a in b` Membership operators\n",
    "        - 當 b 為字串時，用於檢查 a 是否為b的子字串\n",
    "        - 當 b 為 dict 時，用於檢查 a 是否為 b 的其中一個 key\n",
    "        - 當 b 為 sequence 類的資料型態（如list, tuple, range...等）時，用於檢查 a 是否是 b 的其中一個成員\n",
    "- Python僅支援三種邏輯運算子\n",
    "    - `and` 邏輯且\n",
    "    - `or` 邏輯或\n",
    "    - `not` 邏輯非\n",
    "    - 這三個邏輯運算子的運算優先度為 `not` > `and` > `or`，即在沒有任何括號的情況下，`not`會先被運算，再來算`and`，最後才算`or`\n",
    "\n",
    "### `if` 語句\n",
    "- Python 中的 block\n",
    "    - 就如同大部分的指令式程式語言，python在遇到`if`、`while`、`for`、function等語句時，會產生出新的區段（block）\n",
    "    - 與C-like語言不同的是，Python並不使用`{ }`來宣告一個block，而是直接使用縮排的數量來判斷\n",
    "    - 相鄰的兩行程式碼若有一樣的縮排數的話，會被視為在同一個block裏面，享有一樣的scope\n",
    "    - 常用的縮排等級(Indentation level)為：兩個空白鍵、四個空白鍵、一個tab...等\n",
    "    - 注意在同一個block內必須使用相同的縮排等級，否則會報Indentation error\n",
    "- 在Python中最簡單的流程控制語句為`if...else`語句\n",
    "    - `if`語句（注意縮排），僅在條件判斷式為真時執行block內的指令：\n",
    "    ```\n",
    "    if conditional_expression:\n",
    "        # Do something\n",
    "    ```\n",
    "    - 若要串接多個條件判斷式，可使用`if...elif`語句：\n",
    "    ```\n",
    "    if condition_1:\n",
    "        # Do something\n",
    "    elif condition_2:\n",
    "        # Do something else\n",
    "    elif condition_3:\n",
    "        ...\n",
    "    ```\n",
    "    - 若列舉的條件以外有統一的處理方式，可使用`if...else`語句：\n",
    "    ```\n",
    "    if condition:\n",
    "        # Do something\n",
    "    else:\n",
    "        # Do something else\n",
    "    ```\n",
    "- 如果 `if` 語句後面只有一個指令要做的話，可以簡單的寫成一行：\n",
    "    ```\n",
    "    if condition: expression\n",
    "    ```\n",
    "- 如果 `if...else` 語句，`if` 和 `else` 的後面都只有一個指令要做的話，可以簡單寫成一行：\n",
    "    ```\n",
    "    expression_1 if condition else expression_2\n",
    "    ```\n",
    "    - 類似C語言當中的`condition ? expression_1 : expression_2`語句"
   ]
  },
  {
   "cell_type": "code",
   "execution_count": 19,
   "metadata": {},
   "outputs": [
    {
     "name": "stdout",
     "output_type": "stream",
     "text": [
      "False\n",
      "True\n",
      "True\n",
      "True\n",
      "False\n",
      "True\n",
      "False\n",
      "True\n",
      "True\n",
      "False\n",
      "True\n",
      "True\n",
      "True\n",
      "True\n",
      "True\n"
     ]
    }
   ],
   "source": [
    "a = 1\n",
    "b = 3\n",
    "\n",
    "# 基本條件判斷\n",
    "print(a > b)  # 因為 a 並非大於 b，輸出 False\n",
    "print(a < b)  # 因為 a 小於 b，輸出 True\n",
    "print(a >= 1) # 因為 a 等於 1，輸出 True\n",
    "print(b <= 5) # 因為 b 小於 5，輸出 True\n",
    "print(1 == 0) # 因為 1 並非等於 0，輸出 False\n",
    "print(2 != b) # 因為 2 不等於 b，輸出 True\n",
    "\n",
    "# 用於字串比較時，照 ASCII 編號大小決定\n",
    "print('abc' > 'def')  # 由於 'a' 的 ASCII code 小於 'd'，輸出 False\n",
    "\n",
    "# Identity operator\n",
    "print(a is 1)         # 用於數值型態時，與 == 功能相同，因為 a == 1，輸出 True\n",
    "print('abc' is 'abc') # 同上，輸出True\n",
    "\n",
    "c = [1,2,3]\n",
    "d = [1,2,3]\n",
    "print(c is d)         # 用於非數值型態時，檢查兩個object是否存在於同一個記憶體位址，由於分別宣告的變數必定擁有不同的位址，輸出False\n",
    "c = d\n",
    "print(c is d)         # 將 d 的記憶體位址 assign給 c 這個變數後，c 和 d 指向同一塊記憶體位址，輸出True\n",
    "\n",
    "# Membership operator\n",
    "print('ai' in 'bait') # 用於字串型態時，檢查是否為子字串，由於 ai 是 bait 的子字串，輸出 True\n",
    "\n",
    "e = {1: 'a', 2: 'b', 3: 'c'}\n",
    "print(a in e)         # 用於 dict 時，檢查是否為 dict 的其中一個 key，由於 a 是 dict 的第一個 key，輸出 True\n",
    "\n",
    "f = [2, 3, 5, 7, 11]\n",
    "print(b in f)         # 用於 list（sequence類）時，檢查是否為 list 中的成員之一，由於 b 是 f 的第 1 個成員，輸出 True\n",
    "\n",
    "# 邏輯運算、真值表等部份省略，僅說明 operator precedence 的部份\n",
    "print(True or False and not True) # 相當於(True or (False and (not True)))\n",
    "                                  #    = (True or (False and False))\n",
    "                                  #    = (True or False)\n",
    "                                  #    = True，輸出 True"
   ]
  },
  {
   "cell_type": "code",
   "execution_count": 22,
   "metadata": {},
   "outputs": [
    {
     "name": "stdout",
     "output_type": "stream",
     "text": [
      "1 > 0\n",
      "odd\n",
      "negative\n",
      "s is in str\n",
      "Bye\n"
     ]
    }
   ],
   "source": [
    "# if statement\n",
    "if 1 > 0:\n",
    "    print('1 > 0')\n",
    "    \n",
    "# if else statement\n",
    "a = 5\n",
    "if a / 2 == 0:\n",
    "    print('even')\n",
    "else:\n",
    "    print('odd')\n",
    "    \n",
    "# if elif else statement\n",
    "b = -3\n",
    "if b > 0:\n",
    "    print('positive')\n",
    "elif b < 0:\n",
    "    print('negative')\n",
    "else:\n",
    "    print('zero')\n",
    "    \n",
    "# short hand if\n",
    "if 's' in 'str': print('s is in str')\n",
    "    \n",
    "# short hand if else\n",
    "print('Hello') if 'foo' is 'bar' else print('Bye')"
   ]
  },
  {
   "cell_type": "code",
   "execution_count": null,
   "metadata": {},
   "outputs": [],
   "source": []
  },
  {
   "cell_type": "code",
   "execution_count": null,
   "metadata": {},
   "outputs": [],
   "source": []
  },
  {
   "cell_type": "code",
   "execution_count": null,
   "metadata": {},
   "outputs": [],
   "source": []
  },
  {
   "cell_type": "code",
   "execution_count": null,
   "metadata": {},
   "outputs": [],
   "source": []
  },
  {
   "cell_type": "code",
   "execution_count": null,
   "metadata": {},
   "outputs": [],
   "source": []
  },
  {
   "cell_type": "code",
   "execution_count": null,
   "metadata": {},
   "outputs": [],
   "source": []
  },
  {
   "cell_type": "code",
   "execution_count": null,
   "metadata": {},
   "outputs": [],
   "source": []
  },
  {
   "cell_type": "code",
   "execution_count": null,
   "metadata": {},
   "outputs": [],
   "source": []
  },
  {
   "cell_type": "code",
   "execution_count": null,
   "metadata": {},
   "outputs": [],
   "source": []
  },
  {
   "cell_type": "code",
   "execution_count": null,
   "metadata": {},
   "outputs": [],
   "source": []
  }
 ],
 "metadata": {
  "kernelspec": {
   "display_name": "Python 3",
   "language": "python",
   "name": "python3"
  },
  "language_info": {
   "codemirror_mode": {
    "name": "ipython",
    "version": 3
   },
   "file_extension": ".py",
   "mimetype": "text/x-python",
   "name": "python",
   "nbconvert_exporter": "python",
   "pygments_lexer": "ipython3",
   "version": "3.6.5"
  }
 },
 "nbformat": 4,
 "nbformat_minor": 2
}
