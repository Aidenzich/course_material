{
 "cells": [
  {
   "cell_type": "markdown",
   "metadata": {},
   "source": [
    "# pandas-基本功能\n",
    "\n",
    "## 簡介\n",
    "\n",
    "Fast, flexible, and expressive data structures designed to make working with “relational” or “labeled” data both easy and intuitive.\n",
    "  \n",
    "Ordered and unordered variable time series data → Series (1D)  \n",
    "Tabular data with heterogeneously-typed columns: SQL table or Excel spreadsheet → DataFrame (2D)  \n",
    "\n",
    "## 教學目標\n",
    "這份教學的目標是介紹基本的 pandas 功能，並學習快速操作大量的資料。\n",
    "\n",
    "## 適用對象\n",
    "適用於有程式基礎，且擁有 python 和 numpy 基礎的人。\n",
    "\n",
    "## 大綱\n",
    "- [Series](#Series)\n",
    "- [Dataframe](#Dataframe)\n",
    "\n",
    "## 執行方法\n",
    "在 Jupyter notebook 中，選取想要執行的區塊後，使用以下其中一種方法執行\n",
    "- 上方工具列中，按下 `Cell` &lt; `Run Cells` 執行\n",
    "- 使用快捷鍵 `Shift` + `Enter` 執行\n",
    "\n",
    "## 編輯時間\n",
    "[ProFatXuanAll](https://github.com/ProFatXuanAll) 最後編輯於 *2019/08/06* (yyyy/mm/dd)"
   ]
  },
  {
   "cell_type": "code",
   "execution_count": 1,
   "metadata": {},
   "outputs": [],
   "source": [
    "import numpy as np\n",
    "import pandas as pd"
   ]
  },
  {
   "cell_type": "markdown",
   "metadata": {},
   "source": [
    "# Series\n",
    "可以包含不同的資料型態\n",
    "\n",
    "- 宣告\n",
    "- 資料取值"
   ]
  },
  {
   "cell_type": "code",
   "execution_count": 5,
   "metadata": {},
   "outputs": [
    {
     "name": "stdout",
     "output_type": "stream",
     "text": [
      "a    1\n",
      "b    2\n",
      "c    3\n",
      "d    h\n",
      "dtype: object\n",
      "1\n",
      "a    1\n",
      "b    2\n",
      "dtype: object\n"
     ]
    }
   ],
   "source": [
    "a = pd.Series([1,2,3,\"h\"], index=['a','b','c','d']) # 宣告 以 integer 作為 index 的 Series\n",
    "print(a)                                  # 輸出 a 的所有內容\n",
    "\n",
    "# indexing\n",
    "print(a[0])                               # 輸出 a 中的第 0 個位置的資料 1\n",
    "print(a[:2])                              # 輸出位置 0,1 但是不含 2 的資料"
   ]
  },
  {
   "cell_type": "markdown",
   "metadata": {},
   "source": [
    "# DataFrame\n",
    "可以包含不同的資料型態\n",
    "\n",
    "- 宣告\n",
    "- 資料取值\n",
    "- 基本運算"
   ]
  },
  {
   "cell_type": "code",
   "execution_count": 4,
   "metadata": {},
   "outputs": [
    {
     "name": "stdout",
     "output_type": "stream",
     "text": [
      "DatetimeIndex(['2019-08-05', '2019-08-06', '2019-08-07', '2019-08-08',\n",
      "               '2019-08-09', '2019-08-10'],\n",
      "              dtype='datetime64[ns]', freq='D')\n",
      "                   A         B         C         D\n",
      "2019-08-05  0.837503  0.461914 -0.664254  1.515654\n",
      "2019-08-06 -0.782314 -0.532122  0.520739 -1.217438\n",
      "2019-08-07  1.901005  0.485781 -1.428456 -0.435832\n",
      "2019-08-08  0.771239 -0.549041 -0.851857 -0.992187\n",
      "2019-08-09  0.446356  1.247024  1.147238 -0.878580\n",
      "2019-08-10 -0.186424 -2.280903  0.654691 -0.663974\n",
      "     A          B    C  D      E    F\n",
      "0  1.0 2013-01-02  1.0  3   test  foo\n",
      "1  1.0 2013-01-02  1.0  3  train  foo\n",
      "2  1.0 2013-01-02  1.0  3   test  foo\n",
      "3  1.0 2013-01-02  1.0  3  train  foo\n",
      "A           float64\n",
      "B    datetime64[ns]\n",
      "C           float32\n",
      "D             int32\n",
      "E          category\n",
      "F            object\n",
      "dtype: object\n"
     ]
    }
   ],
   "source": [
    "# 宣告 date index\n",
    "dates = pd.date_range('20190805', periods = 6) # 產生以 20190805 為開頭，長度為 6 的 date index\n",
    "print(dates)                                   # 輸出 date\n",
    "\n",
    "# 宣告 以 date 為 index, list('ABCD') 為 column, 數值為隨機產生, 一個 6 X 4 的 DataFrame\n",
    "df = pd.DataFrame(np.random.randn(6, 4), index = dates, columns = list('ABCD'))\n",
    "print(df)\n",
    "\n",
    "# 宣告一個 index, column, data 自行定義的 DataFrame\n",
    "df2 = pd.DataFrame({ 'A' : 1.,\n",
    "                     'B' : pd.Timestamp('20130102'),\n",
    "                     'C' : pd.Series(1, index=list(range(4)), dtype='float32'),\n",
    "                     'D' : np.array([3] * 4, dtype='int32'),\n",
    "                     'E' : pd.Categorical([\"test\", \"train\", \"test\", \"train\"]),\n",
    "                     'F' : 'foo' })\n",
    "print(df2)        # 輸出 df2 的內容\n",
    "print(df2.dtypes) # 輸出 df2 的 data types"
   ]
  },
  {
   "cell_type": "code",
   "execution_count": 14,
   "metadata": {
    "scrolled": true
   },
   "outputs": [
    {
     "name": "stdout",
     "output_type": "stream",
     "text": [
      "         Temperature  T Max  T Min  Precp\n",
      "ObsTime                                  \n",
      "1               28.9   32.2   26.0    2.5\n",
      "2               29.6   33.0   27.2    2.0\n",
      "3               30.1   33.6   27.9    0.0\n",
      "4               27.8   30.6   25.2   19.5\n",
      "5               29.8   33.7   26.2    0.0\n",
      "6               30.6   34.1   27.6    0.0\n",
      "7               30.5   33.6   28.3    0.0\n",
      "8               30.3   33.5   28.1    0.0\n",
      "9               30.0   34.2   27.6    1.5\n",
      "10              28.2   33.7   24.5   17.5\n",
      "11              26.7   28.6   25.2  114.0\n",
      "12              27.2   30.5   24.6   36.0\n",
      "13              28.4   33.1   26.1   17.5\n",
      "14              27.8   30.9   26.1   24.5\n",
      "15              28.6   33.1   25.1    0.0\n",
      "16              29.1   32.5   26.6    0.0\n",
      "17              30.2   33.7   26.7    0.0\n",
      "18              31.2   34.6   28.1    0.0\n",
      "19              30.9   33.9   28.6    0.0\n",
      "20              30.7   34.0   28.6    0.0\n",
      "21              30.7   34.0   28.2    0.0\n",
      "22              30.8   34.4   28.6    0.0\n",
      "23              28.8   32.6   25.8   16.0\n",
      "24              28.8   31.4   26.1    5.0\n",
      "25              28.1   31.0   25.0   15.5\n",
      "26              27.2   29.4   25.3    1.5\n",
      "27              28.1   32.9   26.2    0.5\n",
      "28              30.2   33.9   27.0    0.0\n",
      "29              30.0   32.9   28.0    0.0\n",
      "30              30.8   33.7   28.1    0.0\n"
     ]
    }
   ],
   "source": [
    "# 檔案下載網址 (資料集: 台南觀測站六月氣象觀測資料報表):\n",
    "# https://e-service.cwb.gov.tw/HistoryDataQuery/MonthDataController.do?command=viewMain&station=467410&stname=%25E8%2587%25BA%25E5%258D%2597&datepicker=2019-06#\n",
    "# 將檔案放置於 course_material 資料夾底下，並命名為 data.csv，供之後練習用\n",
    "\n",
    "# 讀取 csv 檔案做為 DataFrame\n",
    "data = pd.read_csv(\"data.csv\", index_col=\"ObsTime\", usecols=[\"ObsTime\",\"Temperature\",\"T Max\",\"T Min\", \"Precp\"])\n",
    "print(data) # 輸出 a 所有資料"
   ]
  },
  {
   "cell_type": "code",
   "execution_count": 3,
   "metadata": {},
   "outputs": [
    {
     "name": "stdout",
     "output_type": "stream",
     "text": [
      "         Temperature  T Max  T Min  Precp\n",
      "ObsTime                                  \n",
      "1               28.9   32.2   26.0    2.5\n",
      "2               29.6   33.0   27.2    2.0\n",
      "3               30.1   33.6   27.9    0.0\n",
      "4               27.8   30.6   25.2   19.5\n",
      "5               29.8   33.7   26.2    0.0\n",
      "         Temperature  T Max  T Min  Precp\n",
      "ObsTime                                  \n",
      "28              30.2   33.9   27.0    0.0\n",
      "29              30.0   32.9   28.0    0.0\n",
      "30              30.8   33.7   28.1    0.0\n",
      "         Temperature  T Max  T Min  Precp\n",
      "ObsTime                                  \n",
      "27              28.1   32.9   26.2    0.5\n",
      "28              30.2   33.9   27.0    0.0\n",
      "29              30.0   32.9   28.0    0.0\n",
      "30              30.8   33.7   28.1    0.0\n",
      "         Temperature  T Max  T Min  Precp\n",
      "ObsTime                                  \n",
      "1               28.9   32.2   26.0    2.5\n",
      "2               29.6   33.0   27.2    2.0\n",
      "3               30.1   33.6   27.9    0.0\n",
      "4               27.8   30.6   25.2   19.5\n",
      "5               29.8   33.7   26.2    0.0\n",
      "         Temperature  T Max  T Min  Precp\n",
      "ObsTime                                  \n",
      "6               30.6   34.1   27.6    0.0\n",
      "7               30.5   33.6   28.3    0.0\n",
      "8               30.3   33.5   28.1    0.0\n",
      "9               30.0   34.2   27.6    1.5\n",
      "10              28.2   33.7   24.5   17.5\n"
     ]
    }
   ],
   "source": [
    "# 資料取值\n",
    "\n",
    "print(data.head())   # 取得前 5 筆資料\n",
    "print(data.tail(3))  # 取得後 3 筆資料\n",
    "\n",
    "print(data[26:])     # 取得第 26 筆之後的資料\n",
    "print(data[:5])      # 取得第 0 至第 4 (不包含第 5 筆) 筆的資料\n",
    "print(data[5:10])    # 取得第 5 至第 9 (不包含第 10 筆) 筆的資料"
   ]
  },
  {
   "cell_type": "code",
   "execution_count": 6,
   "metadata": {},
   "outputs": [
    {
     "name": "stdout",
     "output_type": "stream",
     "text": [
      "Temperature    29.6\n",
      "T Max          33.0\n",
      "T Min          27.2\n",
      "Precp           2.0\n",
      "Name: 2, dtype: float64\n",
      "         T Max  T Min\n",
      "ObsTime              \n",
      "2         33.0   27.2\n",
      "3         33.6   27.9\n",
      "4         30.6   25.2\n",
      "5         33.7   26.2\n",
      "30.8\n"
     ]
    }
   ],
   "source": [
    "# 依據 label 取值\n",
    "\n",
    "print(data.loc[2])                       # 取得 index 為 2 的資料\n",
    "print(data.loc[2:5, [\"T Max\", \"T Min\"]]) # 取得 index 為 2 到 5 之間，column 為 T Max 和 T Min 的資料\n",
    "print(data.loc[30, \"Temperature\"])       # 取得 index 為 30，column 為 Temperature 的資料"
   ]
  },
  {
   "cell_type": "code",
   "execution_count": 7,
   "metadata": {},
   "outputs": [
    {
     "name": "stdout",
     "output_type": "stream",
     "text": [
      "Temperature    29.6\n",
      "T Max          33.0\n",
      "T Min          27.2\n",
      "Precp           2.0\n",
      "Name: 2, dtype: float64\n",
      "         T Max  T Min\n",
      "ObsTime              \n",
      "3         33.6   27.9\n",
      "4         30.6   25.2\n",
      "5         33.7   26.2\n",
      "30.8\n"
     ]
    }
   ],
   "source": [
    "# 依據位置取值\n",
    "\n",
    "print(data.iloc[1])        # 取得第 1 筆資料\n",
    "print(data.iloc[2:5, 1:3]) # 取得第 2 到 5 筆(不包含 5)，第 1 到 3 行(不包含 3)的資料\n",
    "print(data.iloc[29, 0])    # 取得第 29 筆，第 0 行的資料"
   ]
  },
  {
   "cell_type": "code",
   "execution_count": 77,
   "metadata": {},
   "outputs": [
    {
     "name": "stdout",
     "output_type": "stream",
     "text": [
      "         Temperature  T Max  T Min Precp\n",
      "ObsTime                                 \n",
      "1               31.5   34.8   28.6   0.0\n",
      "14              30.2   33.7   27.5   0.5\n",
      "15              30.8   34.0   28.3   0.0\n",
      "16              30.8   34.0   28.9   0.0\n",
      "17              30.9   35.4   28.7   0.0\n",
      "18              30.1   34.5   27.7  11.0\n",
      "25              30.3   33.5   27.9   0.0\n",
      "26              30.3   33.6   26.8  18.0\n",
      "29              30.7   35.2   27.1   0.0\n",
      "30              30.6   35.2   27.8     T\n",
      "31              30.3   34.1   27.9   0.0\n",
      "         Temperature  T Max  T Min Precp  test\n",
      "ObsTime                                       \n",
      "11              27.4   30.8   25.0  24.5   two\n",
      "12              29.5   33.2   25.3   6.0   two\n",
      "13              30.0   33.3   27.4   3.0   two\n",
      "14              30.2   33.7   27.5   0.5   two\n",
      "15              30.8   34.0   28.3   0.0   two\n",
      "16              30.8   34.0   28.9   0.0   two\n",
      "17              30.9   35.4   28.7   0.0   two\n",
      "18              30.1   34.5   27.7  11.0   two\n",
      "19              27.8   30.9   25.2  60.5   two\n",
      "20              26.2   27.9   25.3  24.0   two\n",
      "31              30.3   34.1   27.9   0.0  four\n"
     ]
    }
   ],
   "source": [
    "# 依據布林值取值\n",
    "\n",
    "print(data[data.Temperature > 30.0])                              # 列出所有 Temperature > 30.0 的資料\n",
    "\n",
    "data2 = data.copy()                                               # 複製 DataFrame\n",
    "data2[\"test\"] = [\"one\"]*10 + [\"two\"]*10 + [\"three\"]*10 + [\"four\"] # 在 data2 加上 column: test\n",
    "print(data2[data2[\"test\"].isin([\"two\", \"four\"])])                 # 列出 column 為 test，且含有 two 和 four 的資料"
   ]
  },
  {
   "cell_type": "code",
   "execution_count": 13,
   "metadata": {},
   "outputs": [
    {
     "name": "stdout",
     "output_type": "stream",
     "text": [
      "Temperature    29.336667\n",
      "T Max          32.776667\n",
      "T Min          26.753333\n",
      "Precp           9.116667\n",
      "dtype: float64\n",
      "Temperature     31.2\n",
      "T Max           34.6\n",
      "T Min           28.6\n",
      "Precp          114.0\n",
      "dtype: float64\n",
      "Temperature    26.7\n",
      "T Max          28.6\n",
      "T Min          24.5\n",
      "Precp           0.0\n",
      "dtype: float64\n",
      "         Temperature  T Max  T Min  Precp\n",
      "ObsTime                                  \n",
      "1               29.9   33.2   27.0    3.5\n",
      "2               30.6   34.0   28.2    3.0\n",
      "3               31.1   34.6   28.9    1.0\n",
      "4               28.8   31.6   26.2   20.5\n",
      "5               30.8   34.7   27.2    1.0\n",
      "6               31.6   35.1   28.6    1.0\n",
      "7               31.5   34.6   29.3    1.0\n",
      "8               31.3   34.5   29.1    1.0\n",
      "9               31.0   35.2   28.6    2.5\n",
      "10              29.2   34.7   25.5   18.5\n",
      "11              27.7   29.6   26.2  115.0\n",
      "12              28.2   31.5   25.6   37.0\n",
      "13              29.4   34.1   27.1   18.5\n",
      "14              28.8   31.9   27.1   25.5\n",
      "15              29.6   34.1   26.1    1.0\n",
      "16              30.1   33.5   27.6    1.0\n",
      "17              31.2   34.7   27.7    1.0\n",
      "18              32.2   35.6   29.1    1.0\n",
      "19              31.9   34.9   29.6    1.0\n",
      "20              31.7   35.0   29.6    1.0\n",
      "21              31.7   35.0   29.2    1.0\n",
      "22              31.8   35.4   29.6    1.0\n",
      "23              29.8   33.6   26.8   17.0\n",
      "24              29.8   32.4   27.1    6.0\n",
      "25              29.1   32.0   26.0   16.5\n",
      "26              28.2   30.4   26.3    2.5\n",
      "27              29.1   33.9   27.2    1.5\n",
      "28              31.2   34.9   28.0    1.0\n",
      "29              31.0   33.9   29.0    1.0\n",
      "30              31.8   34.7   29.1    1.0\n",
      "         Temperature  T Max  T Min  Precp\n",
      "ObsTime                                  \n",
      "1               18.9   22.2   16.0   -7.5\n",
      "2               19.6   23.0   17.2   -8.0\n",
      "3               20.1   23.6   17.9  -10.0\n",
      "4               17.8   20.6   15.2    9.5\n",
      "5               19.8   23.7   16.2  -10.0\n",
      "6               20.6   24.1   17.6  -10.0\n",
      "7               20.5   23.6   18.3  -10.0\n",
      "8               20.3   23.5   18.1  -10.0\n",
      "9               20.0   24.2   17.6   -8.5\n",
      "10              18.2   23.7   14.5    7.5\n",
      "11              16.7   18.6   15.2  104.0\n",
      "12              17.2   20.5   14.6   26.0\n",
      "13              18.4   23.1   16.1    7.5\n",
      "14              17.8   20.9   16.1   14.5\n",
      "15              18.6   23.1   15.1  -10.0\n",
      "16              19.1   22.5   16.6  -10.0\n",
      "17              20.2   23.7   16.7  -10.0\n",
      "18              21.2   24.6   18.1  -10.0\n",
      "19              20.9   23.9   18.6  -10.0\n",
      "20              20.7   24.0   18.6  -10.0\n",
      "21              20.7   24.0   18.2  -10.0\n",
      "22              20.8   24.4   18.6  -10.0\n",
      "23              18.8   22.6   15.8    6.0\n",
      "24              18.8   21.4   16.1   -5.0\n",
      "25              18.1   21.0   15.0    5.5\n",
      "26              17.2   19.4   15.3   -8.5\n",
      "27              18.1   22.9   16.2   -9.5\n",
      "28              20.2   23.9   17.0  -10.0\n",
      "29              20.0   22.9   18.0  -10.0\n",
      "30              20.8   23.7   18.1  -10.0\n"
     ]
    }
   ],
   "source": [
    "# 基本運算\n",
    "\n",
    "print(data.mean())  # 取得各個 column 數值的平均數\n",
    "print(data.max())   # 取得各個 column 數值的最大值\n",
    "print(data.min())   # 取得各個 column 數值的最小值\n",
    "\n",
    "print(data.add(1))  # 對每個元素進行加法\n",
    "print(data.sub(10)) # 對每個元素進行減法"
   ]
  },
  {
   "cell_type": "code",
   "execution_count": null,
   "metadata": {},
   "outputs": [],
   "source": []
  }
 ],
 "metadata": {
  "kernelspec": {
   "display_name": "Python 3",
   "language": "python",
   "name": "python3"
  },
  "language_info": {
   "codemirror_mode": {
    "name": "ipython",
    "version": 3
   },
   "file_extension": ".py",
   "mimetype": "text/x-python",
   "name": "python",
   "nbconvert_exporter": "python",
   "pygments_lexer": "ipython3",
   "version": "3.6.8"
  }
 },
 "nbformat": 4,
 "nbformat_minor": 2
}
