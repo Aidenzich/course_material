{
 "cells": [
  {
   "cell_type": "markdown",
   "metadata": {},
   "source": [
    "# Python-資料視覺化\n",
    "## 大綱\n",
    "- [Matplotlib](#Matplotlib)\n",
    "- [Seaborn](#Seaborn)"
   ]
  },
  {
   "cell_type": "markdown",
   "metadata": {},
   "source": [
    "<br/>\n",
    "<br/>"
   ]
  },
  {
   "cell_type": "code",
   "execution_count": null,
   "metadata": {},
   "outputs": [],
   "source": [
    "# 程式執行時間約為 4.76 sec\n",
    "# 計算程式執行時間\n",
    "import time                 # 匯入 time 套件\n",
    "start_time = time.time()    # 紀錄開始時間"
   ]
  },
  {
   "cell_type": "markdown",
   "metadata": {},
   "source": [
    "# Matplotlib\n",
    "\n",
    "\n",
    "### State Machine\n",
    "![state machine](https://i.imgur.com/6Cpxaex.png)\n",
    "\n",
    "\n",
    "### Line Plot 折線圖\n"
   ]
  },
  {
   "cell_type": "code",
   "execution_count": null,
   "metadata": {},
   "outputs": [],
   "source": [
    "# 接下來處理數據時會用到的一些套件\n",
    "import numpy as np\n",
    "import pandas as pd\n",
    "import math"
   ]
  },
  {
   "cell_type": "code",
   "execution_count": null,
   "metadata": {},
   "outputs": [],
   "source": [
    "# 匯入matplotlib\n",
    "import matplotlib.pyplot as plt"
   ]
  },
  {
   "cell_type": "code",
   "execution_count": null,
   "metadata": {},
   "outputs": [],
   "source": [
    "x = [1, 2, 3, 4]\n",
    "y = [1, 2, 3, 4]"
   ]
  },
  {
   "cell_type": "code",
   "execution_count": null,
   "metadata": {},
   "outputs": [],
   "source": [
    "# 根據 x, y 畫出折線圖\n",
    "plt.plot(x, y)\n",
    "\n",
    "# 顯示圖表\n",
    "plt.show()"
   ]
  },
  {
   "cell_type": "markdown",
   "metadata": {},
   "source": [
    "### Scatter Plot 散佈圖"
   ]
  },
  {
   "cell_type": "code",
   "execution_count": null,
   "metadata": {},
   "outputs": [],
   "source": [
    "# x = {0, 1, ... , 99}\n",
    "x = np.arange(100)\n",
    "\n",
    "# y = 100 個介於 1 ~ 100 之間的隨機整數\n",
    "y = np.random.randint(0, 100, 100)\n",
    "\n",
    "# 印出 x, y 的前 10 項\n",
    "print('x data: {}'.format(x[:10]))\n",
    "print('y data: {}'.format(y[:10]))"
   ]
  },
  {
   "cell_type": "code",
   "execution_count": null,
   "metadata": {},
   "outputs": [],
   "source": [
    "# 根據 x, y 畫出散佈圖\n",
    "plt.scatter(x, y)\n",
    "plt.show()"
   ]
  },
  {
   "cell_type": "markdown",
   "metadata": {},
   "source": [
    "### Histogram 長條圖"
   ]
  },
  {
   "cell_type": "code",
   "execution_count": null,
   "metadata": {},
   "outputs": [],
   "source": [
    "# x = {0, 1, ... , 9}\n",
    "x = np.arange(10)\n",
    "\n",
    "# y = 10 個介於 5 ~ 10 之間的隨機整數\n",
    "y = np.random.randint(5, 10, 10)\n",
    "\n",
    "# 印出 x, y\n",
    "print('x data: {}'.format(x))\n",
    "print('y data: {}'.format(y))"
   ]
  },
  {
   "cell_type": "code",
   "execution_count": null,
   "metadata": {},
   "outputs": [],
   "source": [
    "# 根據 x, y 畫出長條圖\n",
    "plt.bar(x, y)\n",
    "plt.show()"
   ]
  },
  {
   "cell_type": "markdown",
   "metadata": {},
   "source": [
    "### Legends 圖例"
   ]
  },
  {
   "cell_type": "code",
   "execution_count": null,
   "metadata": {},
   "outputs": [],
   "source": [
    "# x = {0, 1, ... , 9}\n",
    "x = np.arange(10)\n",
    "\n",
    "# y = 10 個介於 5 ~ 10 之間的隨機整數\n",
    "y = np.random.randint(5, 10, 10)\n",
    "\n",
    "# 印出 x, y\n",
    "print('x data: {}'.format(x))\n",
    "print('y data: {}'.format(y))"
   ]
  },
  {
   "cell_type": "markdown",
   "metadata": {},
   "source": [
    "<br>\n",
    "\n",
    "- **Axe label**"
   ]
  },
  {
   "cell_type": "code",
   "execution_count": null,
   "metadata": {},
   "outputs": [],
   "source": [
    "# 根據 x, y 畫出折線圖\n",
    "plt.plot(x, y)\n",
    "\n",
    "# 替 x 座標加上標籤 'x label'\n",
    "plt.xlabel('x label')\n",
    "\n",
    "# 替 y 座標加上標籤 'y label'\n",
    "plt.ylabel('y label')\n",
    "plt.show()"
   ]
  },
  {
   "cell_type": "markdown",
   "metadata": {},
   "source": [
    "<br>\n",
    "\n",
    "- **Marker**"
   ]
  },
  {
   "cell_type": "code",
   "execution_count": null,
   "metadata": {},
   "outputs": [],
   "source": [
    "# 在每個資料點的位置標上叉號\n",
    "plt.plot(x, y, marker = 'x')\n",
    "plt.show()"
   ]
  },
  {
   "cell_type": "markdown",
   "metadata": {},
   "source": [
    "<br>\n",
    "\n",
    "- **Color**"
   ]
  },
  {
   "cell_type": "code",
   "execution_count": null,
   "metadata": {},
   "outputs": [],
   "source": [
    "# 將線條顏色換成紅色\n",
    "plt.plot(x, y, color = 'red')\n",
    "plt.show()"
   ]
  },
  {
   "cell_type": "markdown",
   "metadata": {},
   "source": [
    "### Multiple Plots"
   ]
  },
  {
   "cell_type": "code",
   "execution_count": null,
   "metadata": {},
   "outputs": [],
   "source": [
    "# x = {0, 1, 2, 3, 4}\n",
    "x = np.arange(5)\n",
    "\n",
    "# y_linear : y = x\n",
    "y_linear = x\n",
    "\n",
    "# y_square : y = x ^ 2\n",
    "y_square = np.power(x, 2)\n",
    "\n",
    "# y_cubic :  y = x ^ 3\n",
    "y_cubic  = np.power(x, 3)\n",
    "\n",
    "# 印出x, y_linear, y_square, y_cubic\n",
    "print('x data: {}'.format(x))\n",
    "print('linear y: {}'.format(y_linear))\n",
    "print('square y: {}'.format(y_square))\n",
    "print('cubic y: {}'.format(y_cubic))"
   ]
  },
  {
   "cell_type": "code",
   "execution_count": null,
   "metadata": {},
   "outputs": [],
   "source": [
    "plt.plot(x, y_linear, color = 'red')\n",
    "plt.plot(x, y_square, color = 'green')\n",
    "plt.plot(x, y_cubic, color = 'blue')\n",
    "plt.show()"
   ]
  },
  {
   "cell_type": "markdown",
   "metadata": {},
   "source": [
    "### Styles\n"
   ]
  },
  {
   "cell_type": "code",
   "execution_count": null,
   "metadata": {},
   "outputs": [],
   "source": [
    "# x = 100 個標準常態分配(平均值 = 0, 標準差 = 1)的隨機變數\n",
    "x = np.random.normal(0, 1, 100)\n",
    "\n",
    "# 套用 ggplot 設計\n",
    "plt.style.use('ggplot')\n",
    "\n",
    "# 畫出長條圖\n",
    "plt.hist(x)\n",
    "\n",
    "# 將圖表標題設為 'ggplot style'\n",
    "plt.title('ggplot style')\n",
    "plt.show()"
   ]
  },
  {
   "cell_type": "code",
   "execution_count": null,
   "metadata": {},
   "outputs": [],
   "source": [
    "# 套用 seaborn-whitegrid 設計\n",
    "plt.style.use('seaborn-whitegrid')\n",
    "plt.hist(x)\n",
    "plt.title('seaborn-whitegrid style')\n",
    "plt.show()"
   ]
  },
  {
   "cell_type": "code",
   "execution_count": null,
   "metadata": {},
   "outputs": [],
   "source": [
    "# 套用 dark_background 設計\n",
    "plt.style.use('dark_background')\n",
    "plt.hist(x)\n",
    "plt.title('dark_background style')\n",
    "plt.show()"
   ]
  },
  {
   "cell_type": "markdown",
   "metadata": {},
   "source": [
    "### Reference: [Matplot Gallery](https://matplotlib.org/gallery/index.html)\n",
    "\n",
    "\n",
    "\n",
    "\n"
   ]
  },
  {
   "cell_type": "markdown",
   "metadata": {},
   "source": [
    "<br/>\n",
    "<br/>"
   ]
  },
  {
   "cell_type": "markdown",
   "metadata": {},
   "source": [
    "# Seaborn\n",
    "\n",
    "基於matplotlib的圖形化可視化python庫\n",
    "\n",
    "\n",
    "### Line Plot 折線圖\n"
   ]
  },
  {
   "cell_type": "code",
   "execution_count": null,
   "metadata": {},
   "outputs": [],
   "source": [
    "# 匯入 seaborn\n",
    "import seaborn as sns"
   ]
  },
  {
   "cell_type": "code",
   "execution_count": null,
   "metadata": {},
   "outputs": [],
   "source": [
    "# x = 總個數為 100 的等差數列 {0, ..., 10}\n",
    "x = np.linspace(0, 10, 100)\n",
    "\n",
    "# y1 = sin(x)\n",
    "y1 = np.sin(x)\n",
    "\n",
    "# y2 = sin(x + π/2)\n",
    "y2 = np.sin(x + math.pi / 2)\n",
    "\n",
    "# y3 = sin(x + π)\n",
    "y3 = np.sin(x + math.pi)\n",
    "\n",
    "# y4 = sin(x + 3π/2)\n",
    "y4 = np.sin(x + math.pi * 3 / 2)\n",
    "\n",
    "# 將 x, y1, y2, y3 整合成一個資料表 df\n",
    "df = pd.DataFrame({\n",
    "\n",
    "    #label          |  data\n",
    "    'x'             :  x,\n",
    "    'sin(x)'        :  y1,\n",
    "    'sin(x+pi/2)'   :  y2,\n",
    "    'sin(x+pi)'     :  y3,\n",
    "    'sin(x+pi*3/2)' :  y4\n",
    "})\n",
    "\n",
    "# 印出 df 的前 5 項\n",
    "print(df.head())"
   ]
  },
  {
   "cell_type": "code",
   "execution_count": null,
   "metadata": {},
   "outputs": [],
   "source": [
    "# 設置一個繪圖區\n",
    "sns.set()\n",
    "\n",
    "# 將資料表 df 中的 label 'x' 當作 x 座標, label 'sin(x)' 當作 y 座標, 畫出折線圖, 並在圖例中標記為'sin(x)'\n",
    "# 以此類推\n",
    "sns.lineplot(x = 'x', y = 'sin(x)'       , data = df, label = 'sin(x)')\n",
    "sns.lineplot(x = 'x', y = 'sin(x+pi/2)'  , data = df, label = 'sin(x+pi/2)')\n",
    "sns.lineplot(x = 'x', y = 'sin(x+pi)'    , data = df, label = 'sin(x+pi)')\n",
    "sns.lineplot(x = 'x', y = 'sin(x+pi*3/2)', data = df, label = 'sin(x+pi*3/2)')"
   ]
  },
  {
   "cell_type": "markdown",
   "metadata": {},
   "source": [
    "### Scatter Plot 散佈圖\n"
   ]
  },
  {
   "cell_type": "code",
   "execution_count": null,
   "metadata": {},
   "outputs": [],
   "source": [
    "size = 100\n",
    "\n",
    "# x1, y1 = 100 個介於 0 ~ 10 之間的隨機小數\n",
    "x1 = np.random.random(size) * 10\n",
    "y1 = np.random.random(size) * 10\n",
    "\n",
    "# x2, y2 = 100 個介於 -5 ~ 5 之間的隨機小數\n",
    "x2 = np.random.random(size) * 10 - 5\n",
    "y2 = np.random.random(size) * 10 - 5\n",
    "\n",
    "# x3, y3 = 100 個介於 -10 ~ 0 之間的隨機小數\n",
    "x3 = np.random.random(size) * 10 - 10\n",
    "y3 = np.random.random(size) * 10 - 10\n",
    "\n",
    "# 將x1, y1, x2, y2, x3, y3 整合成一個資料表 df\n",
    "df = pd.DataFrame({\n",
    "    'x1' : x1,\n",
    "    'y1' : y1,\n",
    "    'x2' : x2,\n",
    "    'y2' : y2,\n",
    "    'x3' : x3,\n",
    "    'y3' : y3\n",
    "})\n",
    "\n",
    "# 印出 df 的前 5 項\n",
    "print(df.head())"
   ]
  },
  {
   "cell_type": "code",
   "execution_count": null,
   "metadata": {},
   "outputs": [],
   "source": [
    "sns.set()\n",
    "\n",
    "# 將資料表 df 中的 label 'x1' 當作 x 座標, label 'y1' 當作 y 座標, 畫出散佈圖, 並在圖例中標記為'0 ~ 10'\n",
    "# 以此類推\n",
    "sns.scatterplot(x = 'x1', y = 'y1', data = df, label = '0 ~ 10')\n",
    "sns.scatterplot(x = 'x2', y = 'y2', data = df, label = '-5 ~ 5')\n",
    "sns.scatterplot(x = 'x3', y = 'y3', data = df, label = '-10 ~ 0')"
   ]
  },
  {
   "cell_type": "markdown",
   "metadata": {},
   "source": [
    "### Heatmap 熱圖\n",
    "\n",
    "可以看出兩個屬性之間的相關係數"
   ]
  },
  {
   "cell_type": "code",
   "execution_count": null,
   "metadata": {},
   "outputs": [],
   "source": [
    "# data = 一個 6 * 6 的矩陣, 內容為介於 -1 ~ 1 之間的隨機小數\n",
    "data = np.random.random((6, 6)) * 2 - 1\n",
    "\n",
    "# 將對角線上的數值全部 + 2\n",
    "# 產生的新矩陣, 對角線上的數值必定 >= 1\n",
    "data = data + 2 * np.eye(6)\n",
    "\n",
    "# 使用 np.clip, 將 data 中所有大於 1 的參數設為 1 , 小於 -1 的參數設為 -1\n",
    "# 產生的新矩陣, 對角線上的數值必定 = 1 , 其餘為介於 -1 ~ 1 之間的隨機小數\n",
    "data = np.clip(data, -1, 1)\n",
    "\n",
    "# 印出 data\n",
    "print(data)"
   ]
  },
  {
   "cell_type": "code",
   "execution_count": null,
   "metadata": {},
   "outputs": [],
   "source": [
    "sns.set()\n",
    "\n",
    "# 設置一個繪圖區, 並將大小設定為10 * 8\n",
    "plt.subplots(1, figsize = (10, 6))\n",
    "\n",
    "# 根據 data 畫出熱圖, 預設配色中, 數值越接近 1 (正相關)的格子顏色越黃, 數值越接近 -1 (負相關)的格子顏色越藍\n",
    "# annot : 是否顯示每個格子所代表的數字, True 即顯示\n",
    "# square : 是否將格子形狀調整為正方形, True 即調整\n",
    "# xticklabels : 是否顯示 x軸座標標籤, False 即不顯示\n",
    "# yticklabels : 是否顯示 y軸座標標籤, False 即不顯示\n",
    "sns.heatmap(data, annot = True, square = True, xticklabels = False, yticklabels = False)"
   ]
  },
  {
   "cell_type": "markdown",
   "metadata": {},
   "source": [
    "### Box/Strip/Violin Plot\n"
   ]
  },
  {
   "cell_type": "code",
   "execution_count": null,
   "metadata": {},
   "outputs": [],
   "source": [
    "# 使用 Seaborn 內建的小費數據集\n",
    "tips = sns.load_dataset(\"tips\")\n",
    "\n",
    "# 隨機印出 10 筆數據\n",
    "print(tips.sample(10))"
   ]
  },
  {
   "cell_type": "markdown",
   "metadata": {},
   "source": [
    "<br>\n",
    "\n",
    "- **Box 箱形圖**\n",
    "\n",
    "    顯示分布的三個四分位數以及極值，離群值則以點的方式獨立顯示"
   ]
  },
  {
   "cell_type": "code",
   "execution_count": null,
   "metadata": {},
   "outputs": [],
   "source": [
    "sns.set()\n",
    "\n",
    "# 將資料表 tips 中的 label 'day' 當作 x 座標, label 'total_bill' 當作 y 座標, 畫出箱形圖\n",
    "sns.boxplot(x = 'day', y = 'total_bill', data = tips)"
   ]
  },
  {
   "cell_type": "markdown",
   "metadata": {},
   "source": [
    "<br>\n",
    "\n",
    "- **Strip 條形圖**\n",
    "\n",
    "    列出所有的數據點"
   ]
  },
  {
   "cell_type": "code",
   "execution_count": null,
   "metadata": {},
   "outputs": [],
   "source": [
    "sns.set()\n",
    "\n",
    "# 將資料表 tips 中的 label 'day' 當作 x 座標, label 'total_bill' 當作 y 座標, 畫出條形圖\n",
    "sns.stripplot(x = 'day', y = 'total_bill', data = tips)"
   ]
  },
  {
   "cell_type": "markdown",
   "metadata": {},
   "source": [
    "<br>\n",
    "\n",
    "- **Violin 琴形圖**\n",
    "\n",
    "    結合箱形圖與核密度估計(kernel density estimation)"
   ]
  },
  {
   "cell_type": "code",
   "execution_count": null,
   "metadata": {},
   "outputs": [],
   "source": [
    "sns.set()\n",
    "\n",
    "# 將資料表 tips 中的 label 'day' 當作 x 座標, label 'total_bill' 當作 y 座標, 畫出琴形圖\n",
    "sns.violinplot(x = 'day', y = 'total_bill', data = tips)"
   ]
  },
  {
   "cell_type": "code",
   "execution_count": null,
   "metadata": {},
   "outputs": [],
   "source": [
    "end_time = time.time()                                              # 記錄結束時間\n",
    "print('time cost : {} sec'.format(end_time - start_time))           # 耗時 = 結束時間 - 開始時間 "
   ]
  },
  {
   "cell_type": "markdown",
   "metadata": {},
   "source": [
    "### Reference: [Official seaborn tutorial](https://seaborn.pydata.org/tutorial.html)\n"
   ]
  }
 ],
 "metadata": {
  "kernelspec": {
   "display_name": "Python 3",
   "language": "python",
   "name": "python3"
  },
  "language_info": {
   "codemirror_mode": {
    "name": "ipython",
    "version": 3
   },
   "file_extension": ".py",
   "mimetype": "text/x-python",
   "name": "python",
   "nbconvert_exporter": "python",
   "pygments_lexer": "ipython3",
   "version": "3.7.3"
  }
 },
 "nbformat": 4,
 "nbformat_minor": 4
}
