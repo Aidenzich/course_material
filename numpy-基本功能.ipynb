{
 "cells": [
  {
   "cell_type": "markdown",
   "metadata": {},
   "source": [
    "# numpy-基本功能\n",
    "## 簡介\n",
    "根據 [Numpy 官方網站](https://numpy.org/):\n",
    "\n",
    "> NumPy is the fundamental package for scientific computing with Python.\n",
    "> \n",
    "> NumPy 是設計用於進行科學計算的 Python 工具\n",
    "> \n",
    "> It contains among other things:\n",
    ">\n",
    "> 包含了以下內容:\n",
    ">\n",
    "> - a powerful N-dimensional array object\n",
    "> - N 維度的矩陣運算功能\n",
    ">\n",
    "> - sophisticated (broadcasting) functions\n",
    "> - 方便的運算傳播功能\n",
    ">\n",
    "> - tools for integrating C/C++ and Fortran code\n",
    "> - 能夠跟 C/C++/Fortran 程式碼整合的工具\n",
    ">\n",
    "> - useful linear algebra, Fourier transform, and random number capabilities\n",
    "> - 包含線性代數、傅利葉轉換、隨機變數的功能\n",
    "\n",
    "## 教學目標\n",
    "這份教學的目標是介紹基本的 numpy 功能，並學習快速操作大量數值型態的資料。\n",
    "\n",
    "## 適用對象\n",
    "適用於有程式基礎，且擁有 python 基礎的人。\n",
    "\n",
    "## 大綱\n",
    "- [一維陣列](#一維陣列)\n",
    "- [陣列運算](#陣列運算)\n",
    "- [二維陣列](#二維陣列)\n",
    "- [高維陣列](#高維陣列)\n",
    "- [其他函數](#其他函數)\n",
    "\n",
    "## 執行方法\n",
    "在 Jupyter notebook 中，選取想要執行的區塊後，使用以下其中一種方法執行\n",
    "- 上方工具列中，按下 `Cell` &lt; `Run Cells` 執行\n",
    "- 使用快捷鍵 `Shift` + `Enter` 執行\n",
    "\n",
    "## 編輯時間\n",
    "[ProFatXuanAll](https://github.com/ProFatXuanAll) 最後編輯於 *2019/08/06* (yyyy/mm/dd)"
   ]
  },
  {
   "cell_type": "code",
   "execution_count": null,
   "metadata": {},
   "outputs": [],
   "source": [
    "# 程式執行時間約為 0.38 sec\n",
    "# 計算程式執行時間\n",
    "import time                 # 匯入 time 套件\n",
    "start_time = time.time()    # 紀錄開始時間"
   ]
  },
  {
   "cell_type": "code",
   "execution_count": null,
   "metadata": {},
   "outputs": [],
   "source": [
    "# import 的功能為匯入模組，在這裡我們匯入 numpy 模組\n",
    "# 為了程式撰寫方便，在程式中可以用別稱來取代模組名稱\n",
    "# 使用方式為 import 模組名稱 as 別稱\n",
    "\n",
    "import numpy as np"
   ]
  },
  {
   "cell_type": "markdown",
   "metadata": {},
   "source": [
    "# 一維陣列\n",
    "\n",
    "### 陣列宣告\n",
    "- 將計算結果**保存**\n",
    "    - 使用 `=` 進行**賦予 (assignment)** 值的運算\n",
    "- **重複**利用計算結果\n",
    "\n",
    "### 陣列取值 (indexing)\n",
    "- 使用 `[起始位置:結束位置]` 來取得 array 中的部分資料\n",
    "- 取出的值會以 array 的形式保留\n",
    "- 位置**包含起始位置**，但**不包含結束位置**\n",
    "\n",
    "### 判斷式取值\n",
    "- 使用判斷式來取得 array 中的部份資料\n",
    "\n",
    "### 資料型態\n",
    "- 可以使用 `dtype` 觀察資料型態\n",
    "- 數值型態\n",
    "    - `int64`: **整數** (64位元)\n",
    "    - `float64`: **浮點數** (雙精度, 64位元)\n",
    "    - `bool`: **布林值** (`True` or `False`)\n"
   ]
  },
  {
   "cell_type": "code",
   "execution_count": null,
   "metadata": {},
   "outputs": [],
   "source": [
    "# 陣列宣告\n",
    "a = np.array([1, 2, 3, 4]) # 宣告 numpy array\n",
    "\n",
    "# 陣列取值\n",
    "print(a)                   # 輸出 a 的所有內容 [1 2 3 4]\n",
    "print(len(a))              # 輸出 a 的內容大小 4\n",
    "print(a[0])                # 輸出 a 中的第 0 個位置的資料 1\n",
    "print(a[1])                # 輸出 a 中的第 1 個位置的資料 2\n",
    "print(a[2])                # 輸出 a 中的第 2 個位置的資料 3\n",
    "print(a[[0,2,3]])          # 輸出 a 中的第 0,2,3 個位置的資料 [1 3 4]\n",
    "\n",
    "print(a[0:3])              # 輸出位置 0,1,2 但是不含 3 的資料   [1 2 3]\n",
    "print(a[1:])               # 輸出位置 1,2,3 的資料            [2 3 4]\n",
    "print(a[:2])               # 輸出位置 0,1 但是不含 2 的資料     [1 2]\n",
    "print(a[:])                # 輸出位置 0,1,2,3 的資料          [1 2 3 4]"
   ]
  },
  {
   "cell_type": "code",
   "execution_count": null,
   "metadata": {},
   "outputs": [],
   "source": [
    "# 判斷式取值\n",
    "print(a > 2)         # 輸出每個元素是否大於 2 的 boolean array\n",
    "print(a[a < 4])      # 輸出小於 4 的資料 [1 2 3]\n",
    "print(a[a % 2 == 0]) # 輸出除以 2 餘數為 0 的資料 [2 4]"
   ]
  },
  {
   "cell_type": "code",
   "execution_count": null,
   "metadata": {},
   "outputs": [],
   "source": [
    "# 資料型態\n",
    "print(type(a))    # 取得 array type\n",
    "print(a.dtype)    # 取得 a 的資料型態，輸出 int64\n",
    "print(a[0].dtype) # 取得 a 中第 0 個位置的資料型態，輸出 int64\n",
    "print(a.shape)    # 取得 a 為 d1 乘 d2 的矩陣"
   ]
  },
  {
   "cell_type": "markdown",
   "metadata": {},
   "source": [
    "# 陣列運算\n",
    "\n",
    "### 單一數值運算  (element operation)\n",
    "- 對陣列內所有元素與單一數值做計算\n",
    "- **運算子 (operator)** \n",
    "    - `+` 相加\n",
    "    - `-` 相減\n",
    "    - `*` 相乘\n",
    "    - `/` 相除\n",
    "    - `%` 相除取餘數\n",
    "    - `**` 取次方數\n",
    "\n",
    "### 陣列運算\n",
    "- 對兩**相同維度的陣列**進行運算\n",
    "- **運算子 (operator)** \n",
    "    - `+` 相加\n",
    "    - `-` 相減\n",
    "    - `*` 相乘，為**兩陣列相對應元素相乘**\n",
    "    - `/` 相除，為**兩陣列相對應元素相除**"
   ]
  },
  {
   "cell_type": "code",
   "execution_count": null,
   "metadata": {},
   "outputs": [],
   "source": [
    "print(a)         # 取得 a\n",
    "print(a + 1)     # 對 a 所有元素同加 1\n",
    "print(a - 3)     # 對 a 所有元素同減 3\n",
    "print(a * 2)     # 對 a 所有元素同乘 2\n",
    "print(a / 10)    # 對 a 所有元素同除以 10"
   ]
  },
  {
   "cell_type": "code",
   "execution_count": null,
   "metadata": {},
   "outputs": [],
   "source": [
    "print(a + a)                      # 矩陣加法\n",
    "print(a - a)                      # 矩陣減法\n",
    "print(a * np.array([4, 5, 6, 7])) # 兩陣列相對應元素相乘\n",
    "print(a / a)                      # 兩陣列相對應元素相除"
   ]
  },
  {
   "cell_type": "markdown",
   "metadata": {},
   "source": [
    "# 二維陣列\n",
    "\n",
    "### 陣列宣告\n",
    "- 同一維陣列宣告方式\n",
    "\n",
    "### 陣列取值\n",
    "- 同一維陣列取值方式\n",
    "- 可使用 `[列,行]` 來取得 array 中第幾列第幾行的元素\n",
    "\n",
    "### 陣列運算\n",
    "- `dot` **矩陣乘法**\n",
    "- 矩陣乘法之交換律不成立"
   ]
  },
  {
   "cell_type": "code",
   "execution_count": null,
   "metadata": {},
   "outputs": [],
   "source": [
    "b = np.array([[1, 2],[4, 5]]) # 宣告二維陣列 b\n",
    "\n",
    "print(b)                      # 輸出 b 的所有內容\n",
    "print(b.shape)                # 取得 b 為 幾（列）乘幾（行）的矩陣，輸出為 (2, 2)\n",
    "print(b.dtype)                # 取得 b 的資料型態，輸出 int64"
   ]
  },
  {
   "cell_type": "code",
   "execution_count": null,
   "metadata": {},
   "outputs": [],
   "source": [
    "print(b[0,1])    # 取得 b 中第 0 列,第 1 行資料，輸出為 2\n",
    "print(b[1])      # 取得 b 中第 1 列的資料\n",
    "print(b[0:2])    # 取得 b 中第 0, 1 列但是不包含第 2 列的資料\n",
    "print(b[1:])     # 取得 b 中第 1 列但是不包含第 0 列的資料\n",
    "print(b[:2])     # 取得 b 中第 0, 1 列但是不包含第 2 列的資料\n",
    "print(b[:,1])    # 取得 b 所有列中第 1 行的資料\n",
    "print(b[1:, 1:]) # 取得 b 中第 1 列但是不包含第 0 列，且為第 1 行但是不包含第 0 行的資料"
   ]
  },
  {
   "cell_type": "code",
   "execution_count": null,
   "metadata": {},
   "outputs": [],
   "source": [
    "c = np.array([[6, 7],[8, 9]])  # 宣告二維陣列 c\n",
    "\n",
    "#矩陣乘法之交換律不成立\n",
    "print(b.dot(c))                # 計算 b 陣列乘上 c 陣列\n",
    "print(c.dot(b))                # 計算 c 陣列乘上 b 陣列"
   ]
  },
  {
   "cell_type": "markdown",
   "metadata": {},
   "source": [
    "# 高維陣列\n",
    "\n",
    "### 陣列宣告\n",
    "- 同一維陣列宣告方式\n",
    "\n",
    "### 陣列取值\n",
    "- 同一維陣列取值方式\n",
    "- 可使用 `[]` 來取得 array 中的特定元素"
   ]
  },
  {
   "cell_type": "code",
   "execution_count": null,
   "metadata": {},
   "outputs": [],
   "source": [
    "# 宣告高維陣列\n",
    "high = np.array([[[1,2,3],[4,5,6]],[[7,8,9],[10,11,12]]])\n",
    "print(high)           # 輸出 high 的所有內容\n",
    "print(high.shape)     # 取得 high 的 shape，輸出為 (2, 2, 3)\n",
    "print(high.dtype)     # 取得 high 的資料型態，輸出 int64\n",
    "print(high[1,1,2])    # 取得 high 位於 (1, 1, 2) 的資料"
   ]
  },
  {
   "cell_type": "markdown",
   "metadata": {},
   "source": [
    "# 其他函數\n",
    "\n",
    "- 宣告 array\n",
    "- 數學運算"
   ]
  },
  {
   "cell_type": "code",
   "execution_count": null,
   "metadata": {},
   "outputs": [],
   "source": [
    "# 宣告 array\n",
    "\n",
    "# initialize zeros and ones array\n",
    "e = np.zeros((2, 3))                           # 宣告一個 2 X 3 且元素皆為 0 的 array\n",
    "print(e)\n",
    "f = np.ones((3,4))                             # 宣告一個 3 X 4 且元素皆為 1 的 array\n",
    "print(f)\n",
    "\n",
    "# initialize random array\n",
    "print(np.random.randint(5, 15, size = 10))     # 輸出一個長度為 10，元素數值介於 5 至 15(不包含) 隨機產生的 array\n",
    "print(np.random.randn(2, 4))                   # 輸出一個 2 X 4 的矩陣，並且隨機給它數值\n",
    "\n",
    "# spaced values in interval\n",
    "print(np.arange(0, 20, 2))                     # 輸出一個從 0 至 20(不包含)，元素成等差為 2 的 array\n",
    "print(np.linspace(0, 20, 11))                  # 輸出一個從 0 至 20(包含)，　元素成等差且長度為 11 的 array "
   ]
  },
  {
   "cell_type": "code",
   "execution_count": null,
   "metadata": {},
   "outputs": [],
   "source": [
    "# 數學運算\n",
    "\n",
    "d = np.array([[1,2,3],[4,5,6],[7,8,9]])        # 宣告陣列\n",
    "print(d.sum())                                 # 計算陣列元素總和\n",
    "print(d.mean())                                # 計算陣列元素平均數\n",
    "print(d.max())                                 # 取得陣列中最大元素\n",
    "print(d.argmax())                              # 取得陣列元素中最大元素的位置\n",
    "print(np.log(d))                               # 對陣列中每一元素取 以自然常數 e 為底的 log 函數\n",
    "print(np.exp(d))                               # 對陣列中每一元素取 以自然常數 e 為底的指數函數\n",
    "print(np.sin(d))                               # 對陣列中每一元素取 sin 函數\n",
    "\n",
    "print(d.T)                                     # 取得轉置矩陣\n",
    "print(np.linalg.inv(d))                        # 取得反矩陣\n",
    "\n",
    "# reshape\n",
    "D = d.reshape(1, 9)                            # 改變陣列形狀成為 (1, 9) 的 array\n",
    "print(\"shape: {0}, D: {1}\".format(D.shape, D))"
   ]
  },
  {
   "cell_type": "code",
   "execution_count": null,
   "metadata": {},
   "outputs": [],
   "source": [
    "end_time = time.time()                                              # 記錄結束時間\n",
    "print('time cost : {} sec'.format(end_time - start_time))           # 耗時 = 結束時間 - 開始時間 "
   ]
  }
 ],
 "metadata": {
  "kernelspec": {
   "display_name": "Python 3",
   "language": "python",
   "name": "python3"
  },
  "language_info": {
   "codemirror_mode": {
    "name": "ipython",
    "version": 3
   },
   "file_extension": ".py",
   "mimetype": "text/x-python",
   "name": "python",
   "nbconvert_exporter": "python",
   "pygments_lexer": "ipython3",
   "version": "3.7.3"
  }
 },
 "nbformat": 4,
 "nbformat_minor": 4
}
