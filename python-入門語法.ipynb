{
 "cells": [
  {
   "cell_type": "markdown",
   "metadata": {},
   "source": [
    "# python-入門語法\n",
    "## 教學目標\n",
    "這份教學的目標是介紹基本的 python 語法。\n",
    "\n",
    "## 適用對象\n",
    "適用於有程式基礎，但是卻沒有學過 python 的人。\n",
    "\n",
    "## 大綱\n",
    "- [四則運算](#四則運算)\n",
    "- [變數](#變數)\n",
    "- [資料型態](#資料型態)\n",
    "- [條件判斷](#條件判斷)\n",
    "- [迴圈](#迴圈)\n",
    "- [函數](#函數)\n",
    "- [內建模組](#內建模組)\n",
    "- [第三方模組](#第三方模組)\n",
    "\n",
    "## 執行方法\n",
    "在 Jupyter notebook 中，選取想要執行的區塊後，使用以下其中一種方法執行\n",
    "- 上方工具列中，按下 `Cell` &lt; `Run Cells` 執行\n",
    "- 使用快捷鍵 `Shift` + `Enter` 執行\n",
    "\n",
    "## 編輯時間\n",
    "[ProFatXuanAll](https://github.com/ProFatXuanAll) 最後編輯於 *2019/08/06* (yyyy/mm/dd)"
   ]
  },
  {
   "cell_type": "markdown",
   "metadata": {},
   "source": [
    "<br/>\n",
    "<br/>\n",
    "<br/>\n",
    "<br/>"
   ]
  },
  {
   "cell_type": "markdown",
   "metadata": {},
   "source": [
    "# 四則運算\n",
    "\n",
    "### 註解\n",
    "`#` 井號的意思是註解，出現在井號之後的任何文字都**不會**被當作程式執行\n",
    "\n",
    "### 輸出\n",
    "`print()` 的功能為**輸出**運算結果\n",
    "\n",
    "### 運算方法\n",
    "- **運算子 (operator)** 不外乎**加減乘除**\n",
    "    - `+` 相加\n",
    "    - `-` 相剪\n",
    "    - `*` 相乘\n",
    "    - `/` 相除\n",
    "    - `%` 相除取餘數\n",
    "    - `**` 取次方數\n",
    "- 整數相除會變成含有小數點的**浮點數**"
   ]
  },
  {
   "cell_type": "code",
   "execution_count": 1,
   "metadata": {},
   "outputs": [
    {
     "name": "stdout",
     "output_type": "stream",
     "text": [
      "2019\n",
      "8\n",
      "6\n",
      "1.3333333333333333\n"
     ]
    }
   ],
   "source": [
    "# 井號的意思是註解\n",
    "# 可以出現在每一行的任何一個地方\n",
    "# 出現在井號之後的任何文字都不會被當作程式執行\n",
    "\n",
    "# print 的功能是輸出\n",
    "# 如同 C 語言中的 printf\n",
    "# 如同 C++ 語言中的 std::cout\n",
    "# 如同 Java 語言中的 System.out.println\n",
    "# 如同 JavaScript 語言中的 console.log\n",
    "\n",
    "print(1234 + 785)  # 相加輸出 2019\n",
    "print(5678 - 5670) # 相減輸出 8\n",
    "print(2 * 3)       # 相乘輸出 6\n",
    "print(8 / 6)       # 相除輸出 1.3333333333333333 (浮點數)"
   ]
  },
  {
   "cell_type": "code",
   "execution_count": 2,
   "metadata": {},
   "outputs": [
    {
     "name": "stdout",
     "output_type": "stream",
     "text": [
      "294\n",
      "-1340\n"
     ]
    }
   ],
   "source": [
    "# 先乘除\n",
    "# 後加減\n",
    "print(20 * 19 - 86)   # 輸出 294\n",
    "\n",
    "# 使用小括號()\n",
    "# 改變運算順序\n",
    "print(20 * (19 - 86)) # 輸出 -1340"
   ]
  },
  {
   "cell_type": "code",
   "execution_count": 3,
   "metadata": {},
   "outputs": [
    {
     "name": "stdout",
     "output_type": "stream",
     "text": [
      "1\n",
      "1024\n"
     ]
    }
   ],
   "source": [
    "# 餘數運算\n",
    "print(10 % 3)  # 輸出 1\n",
    "\n",
    "# 次方運算\n",
    "print(2 ** 10) # 輸出 1024"
   ]
  },
  {
   "cell_type": "markdown",
   "metadata": {},
   "source": [
    "# 變數\n",
    "\n",
    "### 變數宣告 (Variable Declaration)\n",
    "- 將計算結果**保存**\n",
    "    - 使用 `=` 進行**賦予 (assignment)** 值的運算\n",
    "- **重複**利用計算結果\n",
    "- 複雜的計算可以拆解成簡單的步驟\n",
    "\n",
    "### 命名規則\n",
    "- 開頭只能是非數字的文字\n",
    "- 不可以包含英文中常見的標點符號\n",
    "- 不可以包含運算符號"
   ]
  },
  {
   "cell_type": "code",
   "execution_count": 4,
   "metadata": {},
   "outputs": [
    {
     "name": "stdout",
     "output_type": "stream",
     "text": [
      "6\n",
      "5\n",
      "3.5\n"
     ]
    }
   ],
   "source": [
    "a = 1            # 宣告變數 a 並賦予值 1\n",
    "b = 2            # 宣告變數 b 並賦予值 2\n",
    "c = 3            # 宣告變數 c 並賦予值 3\n",
    "\n",
    "print(a + b + c) # 輸出 6\n",
    "print(a * b + c) # 輸出 5\n",
    "print(a / b + c) # 輸出 3.5"
   ]
  },
  {
   "cell_type": "code",
   "execution_count": 5,
   "metadata": {},
   "outputs": [
    {
     "name": "stdout",
     "output_type": "stream",
     "text": [
      "32\n"
     ]
    }
   ],
   "source": [
    "# 中文也可以作為變數名稱\n",
    "底數 = 2\n",
    "次方數 = 5\n",
    "運算結果 = 底數 ** 次方數\n",
    "\n",
    "print(運算結果) # 輸出 32"
   ]
  },
  {
   "cell_type": "markdown",
   "metadata": {},
   "source": [
    "# 資料型態\n",
    "- 包含**數值**型態、**結構**型態\n",
    "\n",
    "### 數值型態\n",
    "- `int`: **整數** (64位元)\n",
    "- `float`: **浮點數** (雙精度, 64位元)\n",
    "- `bool`: **布林值** (`True` or `False`)\n",
    "- `str`: **字串**\n",
    "- 不同型態混合運算有特別規則\n",
    "    - 整數 + 浮點數 = 浮點數\n",
    "    - 浮點數 + 整數 = 浮點數\n",
    "    - True 可以變成整數 1\n",
    "    - False 可以變成整數 0\n",
    "\n",
    "### 結構型態\n",
    "- `list` 或 `[]`: **串列**\n",
    "    - 有順序的保存資料\n",
    "    - 使用**位置(數字)**取得內容\n",
    "    - 使用 `:` 來取得指定位置範圍中的資料\n",
    "    - 建議只用來儲存相同性質的資料\n",
    "- `dict` 或 `{}`: **字典**\n",
    "    - 無順序的保存資料\n",
    "    - 使用任意**數值型態**作為**鑰匙**取得資料\n",
    "- 可以使用 `len()` 取得資料**大小**\n",
    "\n",
    "### 資料運算\n",
    "- 可以使用 `type` 觀察**資料型態**"
   ]
  },
  {
   "cell_type": "code",
   "execution_count": 6,
   "metadata": {},
   "outputs": [
    {
     "name": "stdout",
     "output_type": "stream",
     "text": [
      "1\n",
      "<class 'int'>\n",
      "1.0\n",
      "<class 'float'>\n",
      "True\n",
      "<class 'bool'>\n",
      "False\n",
      "<class 'bool'>\n",
      "apple\n",
      "<class 'str'>\n"
     ]
    }
   ],
   "source": [
    "# 數值型態\n",
    "\n",
    "print(1)             # 輸出 1\n",
    "print(type(1))       # 輸出 int\n",
    "\n",
    "print(1.0)           # 輸出 1.0\n",
    "print(type(1.0))     # 輸出 float\n",
    "\n",
    "print(True)          # 輸出 True\n",
    "print(type(True))    # 輸出 bool\n",
    "\n",
    "print(False)         # 輸出 False\n",
    "print(type(False))   # 輸出 bool\n",
    "\n",
    "print('apple')       # 輸出 apple\n",
    "print(type('apple')) # 輸出 str"
   ]
  },
  {
   "cell_type": "code",
   "execution_count": 1,
   "metadata": {},
   "outputs": [
    {
     "name": "stdout",
     "output_type": "stream",
     "text": [
      "2.0\n",
      "2.0\n",
      "2\n",
      "2\n",
      "1\n",
      "1\n",
      "abc\n",
      "年份: 2019\n",
      "月份: 8, 日期: 6\n"
     ]
    }
   ],
   "source": [
    "# 數值型態混合運算\n",
    "\n",
    "print(1 + 1.0)                         # 輸出 2.0\n",
    "print(1.0 + 1)                         # 輸出 2.0\n",
    "\n",
    "print(1 + True)                        # 輸出 2\n",
    "print(True + 1)                        # 輸出 2\n",
    "print(1 + False)                       # 輸出 1\n",
    "print(False + 1)                       # 輸出 1\n",
    "\n",
    "print('abc')                           # 輸出 abc\n",
    "print('年份: ' + str(2019))             # 輸出 年份: 2019\n",
    "print('月份: {}, 日期: {}'.format(8, 6)) # 輸出 月份: 8, 日期: 6"
   ]
  },
  {
   "cell_type": "code",
   "execution_count": 7,
   "metadata": {},
   "outputs": [
    {
     "name": "stdout",
     "output_type": "stream",
     "text": [
      "[2019, 8, 6]\n",
      "3\n",
      "2019\n",
      "8\n",
      "6\n",
      "6\n",
      "8\n",
      "2019\n",
      "[2019, 8, 6]\n",
      "[8, 6]\n",
      "[2019, 8]\n",
      "[2019, 8, 6]\n",
      "[2020, 8, 6]\n"
     ]
    }
   ],
   "source": [
    "a = [2019, 8, 6] # 宣告 list 結構資料\n",
    "\n",
    "print(a)         # 輸出 a 的所有內容 [2019, 8, 6]\n",
    "print(len(a))    # 輸出 a 的內容大小 3\n",
    "print(a[0])      # 輸出 a 中的第 0 個位置的資料 2019\n",
    "print(a[1])      # 輸出 a 中的第 1 個位置的資料 8\n",
    "print(a[2])      # 輸出 a 中的第 2 個位置的資料 6\n",
    "\n",
    "# 使用負數來代表反向取得資料\n",
    "# 例如長度為 3 的 list 中\n",
    "# a[-1] = a[len(a)-1] = a[3-1] = a[2] = 6\n",
    "# a[-2] = a[len(a)-2] = a[3-2] = a[1] = 8\n",
    "# a[-3] = a[len(a)-3] = a[3-3] = a[0] = 2019\n",
    "\n",
    "print(a[-1])     # 輸出 a 中的第 -1 個位置的資料 6\n",
    "print(a[-2])     # 輸出 a 中的第 -1 個位置的資料 8\n",
    "print(a[-3])     # 輸出 a 中的第 -1 個位置的資料 2019\n",
    "\n",
    "# 使用 [起始位置:結束位置] 來取得 list 中的部分資料\n",
    "# 取出的值會以 list 的形式保留\n",
    "# 位置包含起始位置，但不包含結束位置\n",
    "\n",
    "print(a[0:3])    # 輸出位置 0,1,2 但是不含 3 的資料 [2019, 8, 6]\n",
    "print(a[1:])     # 輸出位置 1,2 的資料             [8, 6]\n",
    "print(a[:2])     # 輸出位置 0,1 但是不含 2 的資料   [2019, 8]\n",
    "print(a[:])      # 輸出位置 0,1,2 的資料           [2019, 8, 6]\n",
    "\n",
    "# 更改指定位置的值\n",
    "a[0] = 2020\n",
    "print(a)         # 輸出更改後的 a [2020, 8, 6]"
   ]
  },
  {
   "cell_type": "code",
   "execution_count": null,
   "metadata": {},
   "outputs": [],
   "source": []
  },
  {
   "cell_type": "code",
   "execution_count": null,
   "metadata": {},
   "outputs": [],
   "source": []
  },
  {
   "cell_type": "code",
   "execution_count": null,
   "metadata": {},
   "outputs": [],
   "source": []
  },
  {
   "cell_type": "code",
   "execution_count": null,
   "metadata": {},
   "outputs": [],
   "source": []
  },
  {
   "cell_type": "code",
   "execution_count": null,
   "metadata": {},
   "outputs": [],
   "source": []
  },
  {
   "cell_type": "code",
   "execution_count": null,
   "metadata": {},
   "outputs": [],
   "source": []
  },
  {
   "cell_type": "code",
   "execution_count": null,
   "metadata": {},
   "outputs": [],
   "source": []
  },
  {
   "cell_type": "code",
   "execution_count": null,
   "metadata": {},
   "outputs": [],
   "source": []
  },
  {
   "cell_type": "code",
   "execution_count": null,
   "metadata": {},
   "outputs": [],
   "source": []
  },
  {
   "cell_type": "code",
   "execution_count": null,
   "metadata": {},
   "outputs": [],
   "source": []
  },
  {
   "cell_type": "code",
   "execution_count": null,
   "metadata": {},
   "outputs": [],
   "source": []
  },
  {
   "cell_type": "code",
   "execution_count": null,
   "metadata": {},
   "outputs": [],
   "source": []
  },
  {
   "cell_type": "code",
   "execution_count": null,
   "metadata": {},
   "outputs": [],
   "source": []
  },
  {
   "cell_type": "code",
   "execution_count": null,
   "metadata": {},
   "outputs": [],
   "source": []
  },
  {
   "cell_type": "code",
   "execution_count": null,
   "metadata": {},
   "outputs": [],
   "source": []
  },
  {
   "cell_type": "code",
   "execution_count": null,
   "metadata": {},
   "outputs": [],
   "source": []
  }
 ],
 "metadata": {
  "kernelspec": {
   "display_name": "Python 3",
   "language": "python",
   "name": "python3"
  },
  "language_info": {
   "codemirror_mode": {
    "name": "ipython",
    "version": 3
   },
   "file_extension": ".py",
   "mimetype": "text/x-python",
   "name": "python",
   "nbconvert_exporter": "python",
   "pygments_lexer": "ipython3",
   "version": "3.7.3"
  }
 },
 "nbformat": 4,
 "nbformat_minor": 2
}
